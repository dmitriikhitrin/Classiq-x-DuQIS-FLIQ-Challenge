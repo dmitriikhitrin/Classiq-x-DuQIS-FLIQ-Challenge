{
 "cells": [
  {
   "cell_type": "markdown",
   "id": "ac6de42c",
   "metadata": {},
   "source": [
    "# Make Sure You Are Ready to Go\n",
    "\n",
    "$\\newcommand{\\ket}[1]{\\left| #1 \\right\\rangle}\n",
    "\\newcommand{\\bra}[1]{\\left\\langle #1 \\right|}\n",
    "\\newcommand{\\braket}[2]{\\left\\langle #1 | #2 \\right\\rangle}\n",
    "\\newcommand{\\ketbra}[2]{\\left| #1 \\right\\rangle\\!\\left\\langle #2 \\right|}$\n",
    "\n",
    "If you haven't done it yet, try running the following lines of code and use the [registration and installation](https://docs.classiq.io/latest/classiq_101/registration_installations/) page if you are having difficulty setting up your environment.\\\n",
    "Uncomment and run the following command to install or update to the latest version of the Classiq SDK (if not installed yet):"
   ]
  },
  {
   "cell_type": "code",
   "execution_count": null,
   "id": "85f503ae",
   "metadata": {},
   "outputs": [],
   "source": [
    "# pip install -U classiq"
   ]
  },
  {
   "cell_type": "markdown",
   "id": "6fbf8eae",
   "metadata": {},
   "source": [
    "Uncomment and run the following command if your machine has not been authenticated yet:"
   ]
  },
  {
   "cell_type": "code",
   "execution_count": null,
   "id": "39634579",
   "metadata": {},
   "outputs": [],
   "source": [
    "# import classiq\n",
    "# classiq.authenticate()"
   ]
  },
  {
   "cell_type": "markdown",
   "id": "5305b3c8",
   "metadata": {},
   "source": [
    "Now you are good to go!"
   ]
  },
  {
   "cell_type": "markdown",
   "id": "c77d86a9",
   "metadata": {},
   "source": [
    "# Rydberg Phase Diagram"
   ]
  },
  {
   "cell_type": "markdown",
   "id": "d0929b0c",
   "metadata": {},
   "source": [
    "Before starting to code, let us reiterating some theory on Rydberg atoms - the subject of this challenge. They interact via the following Hamiltonian:\n",
    "\n",
    "$$\n",
    "H = \\frac{\\Omega}{2} \\sum_{i=1}^N X_i \n",
    "    - \\delta \\sum_{i=1}^N n_i \n",
    "    + \\sum_{i \\lt j} \\frac{\\Omega R_b^6 }{(a|i-j|)^6} n_i n_j.\n",
    "$$\n",
    "\n",
    "You can find the phase diagram for a $51$-atom chain below. It is obtained by fixing $a=1$ and $\\Omega=1$ and varying $\\delta$ and $R_b$."
   ]
  },
  {
   "cell_type": "markdown",
   "id": "d294a85c",
   "metadata": {},
   "source": [
    "<img src=\"phase_diagram.png\" alt=\"Phase Diagram\" width=\"800\">\n"
   ]
  },
  {
   "cell_type": "markdown",
   "id": "7e9a92b5",
   "metadata": {},
   "source": [
    "Fig.1: Phase diagram of the 1D Rydberg Hamiltonian, traced out by (left) bipartite entanglement entropy and (right) expectation value of the number of Rydberg excitations. Plots are obtained using tensor-network representation of the ground states of $H$."
   ]
  },
  {
   "cell_type": "markdown",
   "id": "0462afa8",
   "metadata": {},
   "source": [
    "In this challenge, we focus on distinguishing between the $Z2$ phase, where the ground state of $H$ has large overlap with the state $\\ket{rgr\\ldots gr}$, and the $Z3$ phase, where the ground state overlaps strongly with basis states of the form $\\ket{\\ldots rggrgg\\ldots}$.\n",
    "\n",
    "Evidently, such systems can be efficiently studied using tensor networks. However, this challenge prepares us for a more realistic scenario in which we only have access to measurement outcomes from the ground state of some Hamiltonian, and our goal is to determine which phase of matter the state belongs to."
   ]
  },
  {
   "cell_type": "markdown",
   "id": "cedcc958",
   "metadata": {},
   "source": [
    "# Loading and Processing Measurement Data\n",
    "\n",
    "Training data for your model contains measurement results in randomized bases performed on a 51-qubit Rydberg atoms chain. We load training data from the .npz file in the next cell."
   ]
  },
  {
   "cell_type": "code",
   "execution_count": null,
   "id": "33060828",
   "metadata": {},
   "outputs": [],
   "source": [
    "import numpy as np\n",
    "# You might need to make additional imports depending on your implementation"
   ]
  },
  {
   "cell_type": "code",
   "execution_count": null,
   "id": "4e3917d1",
   "metadata": {},
   "outputs": [],
   "source": [
    "loaded = np.load(\"training_data.npz\", allow_pickle=True)\n",
    "\n",
    "unprocessed_features = loaded[\"features\"].tolist()\n",
    "unprocessed_labels = loaded[\"labels\"].tolist()\n",
    "\n",
    "print(f'There are {len(unprocessed_features)} data points')\n",
    "print(f'There were T = {len(unprocessed_features[0])} measurements performed for each data point')\n",
    "print(f'The measurements were performed on {len(unprocessed_features[0][0])} qubits')\n",
    "print(f'Example: 2nd experiment result of 8th data point -> {unprocessed_features[7][1]}')\n",
    "print(f'Example: label for the 8th data point -> {unprocessed_labels[7]}')"
   ]
  },
  {
   "cell_type": "markdown",
   "id": "3ba14877",
   "metadata": {},
   "source": [
    "In the above,\n",
    "- $\\ket{g}$ is the atomic ground state, which is a $+1$-eigenstate of Pauli $Z$\n",
    "- $\\ket{r}$ is the highly excited Rydberg state, which is a $-1$-eigenstate of Pauli $Z$\n",
    "- $\\ket{+} = \\frac{1}{\\sqrt2}(\\ket{g} + \\ket{r})$, a $+1$-eigenstate of Pauli $X$\n",
    "- $\\ket{-} = \\frac{1}{\\sqrt2}(\\ket{g} - \\ket{r})$, a $-1$-eigenstate of Pauli $X$\n",
    "- $\\ket{+i} = \\frac{1}{\\sqrt2}(\\ket{g} +i\\ket{r})$, a $+1$-eigenstate of Pauli $Y$\n",
    "- $\\ket{-i} = \\frac{1}{\\sqrt2}(\\ket{g} -i \\ket{r})$, a $-1$-eigenstate of Pauli $Y$.\n",
    "\n",
    "It is up to you how to convert the features into classical shadows and labels into numbers and then both into training data for your model. For example, you could assign $-1$ to $Z2$ and $+1$ to $Z3$.\n",
    "\n",
    "**Note:** If you decide to define any helper classes/functions in a separate Python file, please submit it alongside your solution notebook, so we can run and grade it properly"
   ]
  },
  {
   "cell_type": "code",
   "execution_count": null,
   "id": "deba5d04",
   "metadata": {},
   "outputs": [],
   "source": [
    "### Your Code Goes Here: ###"
   ]
  },
  {
   "cell_type": "markdown",
   "id": "8016123e",
   "metadata": {},
   "source": [
    "# Defining a Quantum Model\n",
    "\n",
    "In this section, you will create a QML model for classifying the quantum phases. This will include 3 stages:\n",
    "- First, you will need to decide on the data encoding scheme, i.e. loading numerical features you obtained above into the quantum circuit. \n",
    "- Then, you will need to come up with an ansatz - a parametrized quantum circuit, which will be optimized to perform classification. \n",
    "- Finally, to readout classical information from the quantum model, you will need to perform some sort of measurement on the resultant quantum state. Perhaps, you could extract an expectation value of some Pauli-string $P \\in \\{I, X, Y, Z\\}^{\\otimes N}$, so that $\\langle P \\rangle < b$ is interpreted as $Z2$ and  $\\langle P \\rangle > b$ is interpreted as $Z3$ for some decision boundary $b$. "
   ]
  },
  {
   "cell_type": "code",
   "execution_count": null,
   "id": "6413592b",
   "metadata": {},
   "outputs": [],
   "source": [
    "from classiq import *\n",
    "# You might need to make additional imports depending on your implementation"
   ]
  },
  {
   "cell_type": "code",
   "execution_count": null,
   "id": "d5a853fa",
   "metadata": {},
   "outputs": [],
   "source": [
    "@qfunc\n",
    "def encoding(feature: CArray[CReal], wires: QArray) -> None: # your encoding scheme\n",
    "    ### Your Code Goes Here: ###\n",
    "    pass\n",
    "\n",
    "@qfunc\n",
    "def ansatz(weights: CArray[CReal], wires: QArray) -> None: # your ansatz\n",
    "    ### Your Code Goes Here: ###\n",
    "    pass\n",
    "\n",
    "@qfunc\n",
    "def model(\n",
    "            feature: CArray[CReal],\n",
    "            weights: CArray[CReal],\n",
    "            result: Output[QArray[QBit]],\n",
    "        ) -> None:\n",
    "    '''\n",
    "    Combine the encoding scheme and parametrized quantum circuit you came up with\n",
    "    to encode and then process data\n",
    "    '''\n",
    "    ### Your Code Goes Here: ###\n",
    "    pass"
   ]
  },
  {
   "cell_type": "markdown",
   "id": "a03b040c",
   "metadata": {},
   "source": [
    "# Training the Model\n",
    "\n",
    "Here, you will optimize the weights in ansatz, so that the model can distiguish between the phases. For this, you will have to define an objective function, i.e. the function which will compare your model's outputs to the actual labels. Depending on your choice of this function, you will need to minimize ot maximize it throughout the training process.\n",
    "\n",
    "You can find the following Classiq tutorial useful: https://github.com/Classiq/classiq-library/blob/main/algorithms/qaoa/maxcut/qaoa_max_cut.ipynb"
   ]
  },
  {
   "cell_type": "code",
   "execution_count": null,
   "id": "ac821d01",
   "metadata": {},
   "outputs": [],
   "source": [
    "def objective(weights): # objective function for training\n",
    "    ### Your Code Goes Here: ###\n",
    "    pass"
   ]
  },
  {
   "cell_type": "markdown",
   "id": "4f06dc54",
   "metadata": {},
   "source": [
    "Now, implement the optimization loop, in which the weights will be updated based on the value of your objective."
   ]
  },
  {
   "cell_type": "code",
   "execution_count": null,
   "id": "c83c4ef7",
   "metadata": {},
   "outputs": [],
   "source": [
    "### Your Code Goes Here: ###"
   ]
  },
  {
   "cell_type": "markdown",
   "id": "b75f5aed",
   "metadata": {},
   "source": [
    "# Testing the Model\n",
    "\n",
    "Good job! Now it's time to see whether the model you designed can successfully perform the classification. For this, compare the predictions of your model to the actual labels. \n",
    "\n",
    "If the model does not perform well, try modifying the encoding and/or the ansatz (by using different number of parameters/qubits/ansatz layers/...)"
   ]
  },
  {
   "cell_type": "code",
   "execution_count": null,
   "id": "c28e2e16",
   "metadata": {},
   "outputs": [],
   "source": [
    "### Your Code Goes Here: ###"
   ]
  }
 ],
 "metadata": {
  "kernelspec": {
   "display_name": "Qiskit 1.0",
   "language": "python",
   "name": "qiskit1.0"
  },
  "language_info": {
   "codemirror_mode": {
    "name": "ipython",
    "version": 3
   },
   "file_extension": ".py",
   "mimetype": "text/x-python",
   "name": "python",
   "nbconvert_exporter": "python",
   "pygments_lexer": "ipython3",
   "version": "3.9.21"
  }
 },
 "nbformat": 4,
 "nbformat_minor": 5
}
